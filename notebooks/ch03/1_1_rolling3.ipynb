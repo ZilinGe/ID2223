{
 "cells": [
  {
   "cell_type": "markdown",
   "id": "5ca4c15d-b51f-4556-aa8c-40f75135548b",
   "metadata": {},
   "source": [
    "# Creating new feature Group"
   ]
  },
  {
   "cell_type": "code",
   "execution_count": null,
   "id": "9854b778-db92-4259-ba61-5c0c4eb2b743",
   "metadata": {},
   "outputs": [],
   "source": [
    "\n",
    "import hopsworks\n",
    "import os\n",
    "import warnings\n",
    "warnings.filterwarnings(\"ignore\")"
   ]
  },
  {
   "cell_type": "code",
   "execution_count": 2,
   "id": "7043cf4c-dcd0-4f7a-9510-a553349a797b",
   "metadata": {},
   "outputs": [
    {
     "name": "stdout",
     "output_type": "stream",
     "text": [
      "Connected. Call `.close()` to terminate connection gracefully.\n",
      "\n",
      "Logged in to project, explore it here https://c.app.hopsworks.ai:443/p/1170584\n",
      "Connected. Call `.close()` to terminate connection gracefully.\n"
     ]
    }
   ],
   "source": [
    "with open('../../data/hopsworkKey.txt', 'r') as file:\n",
    "    os.environ[\"HOPSWORKS_API_KEY\"] = file.read().rstrip()\n",
    "project = hopsworks.login()\n",
    "\n",
    "fs = project.get_feature_store()"
   ]
  },
  {
   "cell_type": "markdown",
   "id": "15d16e90-b985-4bab-b5cc-888994dd5b0d",
   "metadata": {},
   "source": [
    "# Get data from hopswork"
   ]
  },
  {
   "cell_type": "code",
   "execution_count": 18,
   "id": "68c2e21f-4a5e-4916-9e92-af8718652d32",
   "metadata": {},
   "outputs": [
    {
     "name": "stdout",
     "output_type": "stream",
     "text": [
      "Finished: Reading data from Hopsworks, using Hopsworks Feature Query Service (0.99s) \n"
     ]
    },
    {
     "data": {
      "text/html": [
       "<div>\n",
       "<style scoped>\n",
       "    .dataframe tbody tr th:only-of-type {\n",
       "        vertical-align: middle;\n",
       "    }\n",
       "\n",
       "    .dataframe tbody tr th {\n",
       "        vertical-align: top;\n",
       "    }\n",
       "\n",
       "    .dataframe thead th {\n",
       "        text-align: right;\n",
       "    }\n",
       "</style>\n",
       "<table border=\"1\" class=\"dataframe\">\n",
       "  <thead>\n",
       "    <tr style=\"text-align: right;\">\n",
       "      <th></th>\n",
       "      <th>date</th>\n",
       "      <th>pm25_rolling_mean</th>\n",
       "      <th>country</th>\n",
       "      <th>city</th>\n",
       "      <th>street</th>\n",
       "      <th>url</th>\n",
       "    </tr>\n",
       "  </thead>\n",
       "  <tbody>\n",
       "    <tr>\n",
       "      <th>2</th>\n",
       "      <td>2018-06-30 00:00:00+00:00</td>\n",
       "      <td>78.666667</td>\n",
       "      <td>china</td>\n",
       "      <td>chengdu</td>\n",
       "      <td>chengdu-jinbo-road</td>\n",
       "      <td>https://api.waqi.info/feed/@10444</td>\n",
       "    </tr>\n",
       "    <tr>\n",
       "      <th>3</th>\n",
       "      <td>2018-07-01 00:00:00+00:00</td>\n",
       "      <td>74.000000</td>\n",
       "      <td>china</td>\n",
       "      <td>chengdu</td>\n",
       "      <td>chengdu-jinbo-road</td>\n",
       "      <td>https://api.waqi.info/feed/@10444</td>\n",
       "    </tr>\n",
       "    <tr>\n",
       "      <th>4</th>\n",
       "      <td>2018-07-02 00:00:00+00:00</td>\n",
       "      <td>50.666667</td>\n",
       "      <td>china</td>\n",
       "      <td>chengdu</td>\n",
       "      <td>chengdu-jinbo-road</td>\n",
       "      <td>https://api.waqi.info/feed/@10444</td>\n",
       "    </tr>\n",
       "    <tr>\n",
       "      <th>5</th>\n",
       "      <td>2018-07-03 00:00:00+00:00</td>\n",
       "      <td>44.666667</td>\n",
       "      <td>china</td>\n",
       "      <td>chengdu</td>\n",
       "      <td>chengdu-jinbo-road</td>\n",
       "      <td>https://api.waqi.info/feed/@10444</td>\n",
       "    </tr>\n",
       "    <tr>\n",
       "      <th>6</th>\n",
       "      <td>2018-07-04 00:00:00+00:00</td>\n",
       "      <td>42.000000</td>\n",
       "      <td>china</td>\n",
       "      <td>chengdu</td>\n",
       "      <td>chengdu-jinbo-road</td>\n",
       "      <td>https://api.waqi.info/feed/@10444</td>\n",
       "    </tr>\n",
       "    <tr>\n",
       "      <th>...</th>\n",
       "      <td>...</td>\n",
       "      <td>...</td>\n",
       "      <td>...</td>\n",
       "      <td>...</td>\n",
       "      <td>...</td>\n",
       "      <td>...</td>\n",
       "    </tr>\n",
       "    <tr>\n",
       "      <th>2290</th>\n",
       "      <td>2024-11-13 00:00:00+00:00</td>\n",
       "      <td>60.333333</td>\n",
       "      <td>china</td>\n",
       "      <td>chengdu</td>\n",
       "      <td>chengdu-jinbo-road</td>\n",
       "      <td>https://api.waqi.info/feed/@10444</td>\n",
       "    </tr>\n",
       "    <tr>\n",
       "      <th>2291</th>\n",
       "      <td>2024-11-14 00:00:00+00:00</td>\n",
       "      <td>71.666667</td>\n",
       "      <td>china</td>\n",
       "      <td>chengdu</td>\n",
       "      <td>chengdu-jinbo-road</td>\n",
       "      <td>https://api.waqi.info/feed/@10444</td>\n",
       "    </tr>\n",
       "    <tr>\n",
       "      <th>2292</th>\n",
       "      <td>2024-11-15 00:00:00+00:00</td>\n",
       "      <td>72.666667</td>\n",
       "      <td>china</td>\n",
       "      <td>chengdu</td>\n",
       "      <td>chengdu-jinbo-road</td>\n",
       "      <td>https://api.waqi.info/feed/@10444</td>\n",
       "    </tr>\n",
       "    <tr>\n",
       "      <th>2293</th>\n",
       "      <td>2024-11-16 00:00:00+00:00</td>\n",
       "      <td>63.000000</td>\n",
       "      <td>china</td>\n",
       "      <td>chengdu</td>\n",
       "      <td>chengdu-jinbo-road</td>\n",
       "      <td>https://api.waqi.info/feed/@10444</td>\n",
       "    </tr>\n",
       "    <tr>\n",
       "      <th>2294</th>\n",
       "      <td>2024-11-17 00:00:00+00:00</td>\n",
       "      <td>39.000000</td>\n",
       "      <td>china</td>\n",
       "      <td>chengdu</td>\n",
       "      <td>chengdu-jinbo-road</td>\n",
       "      <td>https://api.waqi.info/feed/@10444</td>\n",
       "    </tr>\n",
       "  </tbody>\n",
       "</table>\n",
       "<p>2293 rows × 6 columns</p>\n",
       "</div>"
      ],
      "text/plain": [
       "                          date  pm25_rolling_mean country     city  \\\n",
       "2    2018-06-30 00:00:00+00:00          78.666667   china  chengdu   \n",
       "3    2018-07-01 00:00:00+00:00          74.000000   china  chengdu   \n",
       "4    2018-07-02 00:00:00+00:00          50.666667   china  chengdu   \n",
       "5    2018-07-03 00:00:00+00:00          44.666667   china  chengdu   \n",
       "6    2018-07-04 00:00:00+00:00          42.000000   china  chengdu   \n",
       "...                        ...                ...     ...      ...   \n",
       "2290 2024-11-13 00:00:00+00:00          60.333333   china  chengdu   \n",
       "2291 2024-11-14 00:00:00+00:00          71.666667   china  chengdu   \n",
       "2292 2024-11-15 00:00:00+00:00          72.666667   china  chengdu   \n",
       "2293 2024-11-16 00:00:00+00:00          63.000000   china  chengdu   \n",
       "2294 2024-11-17 00:00:00+00:00          39.000000   china  chengdu   \n",
       "\n",
       "                  street                                url  \n",
       "2     chengdu-jinbo-road  https://api.waqi.info/feed/@10444  \n",
       "3     chengdu-jinbo-road  https://api.waqi.info/feed/@10444  \n",
       "4     chengdu-jinbo-road  https://api.waqi.info/feed/@10444  \n",
       "5     chengdu-jinbo-road  https://api.waqi.info/feed/@10444  \n",
       "6     chengdu-jinbo-road  https://api.waqi.info/feed/@10444  \n",
       "...                  ...                                ...  \n",
       "2290  chengdu-jinbo-road  https://api.waqi.info/feed/@10444  \n",
       "2291  chengdu-jinbo-road  https://api.waqi.info/feed/@10444  \n",
       "2292  chengdu-jinbo-road  https://api.waqi.info/feed/@10444  \n",
       "2293  chengdu-jinbo-road  https://api.waqi.info/feed/@10444  \n",
       "2294  chengdu-jinbo-road  https://api.waqi.info/feed/@10444  \n",
       "\n",
       "[2293 rows x 6 columns]"
      ]
     },
     "execution_count": 18,
     "metadata": {},
     "output_type": "execute_result"
    }
   ],
   "source": [
    "air_quality_fg = fs.get_feature_group(\n",
    "    name='air_quality',\n",
    "    version=1,\n",
    ")\n",
    "# query = air_quality_fg.select([\"date\", \"pm25\",])\n",
    "query = air_quality_fg.select_all()\n",
    "df_aq = query.read()\n",
    "\n",
    "new_df = df_aq.copy()  \n",
    "new_df.sort_values(by=\"date\", inplace=True)\n",
    "new_df.set_index(\"date\", inplace=True)\n",
    "new_df['pm25_rolling_mean'] = new_df['pm25'].rolling(window=3).mean() \n",
    "new_df.reset_index(inplace=True)\n",
    "\n",
    "new_df['pm25'] = new_df['pm25_rolling_mean']  \n",
    "new_df = new_df.drop(columns=['pm25_rolling_mean'])\n",
    "new_df = new_df.rename(columns={ 'pm25':'pm25_rolling_mean'})\n",
    "new_df.dropna(inplace=True)\n",
    "\n",
    "new_df"
   ]
  },
  {
   "cell_type": "markdown",
   "id": "60697535-21c9-4a33-a2fe-66ab038995ff",
   "metadata": {},
   "source": [
    "# Add expectations"
   ]
  },
  {
   "cell_type": "code",
   "execution_count": 30,
   "id": "045b1838-92de-4570-976e-ed68a900b820",
   "metadata": {},
   "outputs": [
    {
     "data": {
      "text/plain": [
       "{\"expectation_type\": \"expect_column_min_to_be_between\", \"kwargs\": {\"column\": \"pm25_rolling_mean\", \"min_value\": -0.1, \"max_value\": 500.0, \"strict_min\": true}, \"meta\": {}}"
      ]
     },
     "execution_count": 30,
     "metadata": {},
     "output_type": "execute_result"
    }
   ],
   "source": [
    "import great_expectations as ge\n",
    "aq_expectation_suite = ge.core.ExpectationSuite(\n",
    "    expectation_suite_name=\"aq_expectation_suite\"\n",
    ")\n",
    "\n",
    "aq_expectation_suite.add_expectation(\n",
    "    ge.core.ExpectationConfiguration(\n",
    "        expectation_type=\"expect_column_min_to_be_between\",\n",
    "        kwargs={\n",
    "            \"column\":\"pm25_rolling_mean\",\n",
    "            \"min_value\":-0.1,\n",
    "            \"max_value\":500.0,\n",
    "            \"strict_min\":True\n",
    "        }\n",
    "    )\n",
    ")"
   ]
  },
  {
   "cell_type": "code",
   "execution_count": null,
   "id": "1677ef3e-fa44-4a03-80b5-06166913f30f",
   "metadata": {},
   "outputs": [],
   "source": []
  },
  {
   "cell_type": "code",
   "execution_count": 31,
   "id": "517c831b-7eaa-4216-816b-6f494154aec3",
   "metadata": {},
   "outputs": [],
   "source": [
    "air_pm25rolling_fg = fs.get_or_create_feature_group(\n",
    "    name='air_pm25rolling',\n",
    "    description='Air Quality air_pm25Rolling of past 3 days',\n",
    "    version=1,\n",
    "    primary_key=['city', 'street', 'date'],\n",
    "    event_time=\"date\",\n",
    "    expectation_suite=aq_expectation_suite\n",
    ")"
   ]
  },
  {
   "cell_type": "code",
   "execution_count": 32,
   "id": "8fd71f2f-7eb7-4ebe-afd3-135b291a312e",
   "metadata": {},
   "outputs": [
    {
     "name": "stdout",
     "output_type": "stream",
     "text": [
      "Feature Group created successfully, explore it at \n",
      "https://c.app.hopsworks.ai:443/p/1170584/fs/1161287/fg/1352029\n",
      "2024-11-17 21:54:43,421 INFO: \t1 expectation(s) included in expectation_suite.\n",
      "Validation succeeded.\n",
      "Validation Report saved successfully, explore a summary at https://c.app.hopsworks.ai:443/p/1170584/fs/1161287/fg/1352029\n"
     ]
    },
    {
     "data": {
      "application/vnd.jupyter.widget-view+json": {
       "model_id": "91f735a855494fec8b5f24f3ef03ecc4",
       "version_major": 2,
       "version_minor": 0
      },
      "text/plain": [
       "Uploading Dataframe: 0.00% |          | Rows 0/2293 | Elapsed Time: 00:00 | Remaining Time: ?"
      ]
     },
     "metadata": {},
     "output_type": "display_data"
    },
    {
     "name": "stdout",
     "output_type": "stream",
     "text": [
      "Launching job: air_pm25rolling_1_offline_fg_materialization\n",
      "Job started successfully, you can follow the progress at \n",
      "https://c.app.hopsworks.ai/p/1170584/jobs/named/air_pm25rolling_1_offline_fg_materialization/executions\n"
     ]
    },
    {
     "data": {
      "text/plain": [
       "(<hsfs.core.job.Job at 0x228d3fb62e0>,\n",
       " {\n",
       "   \"success\": true,\n",
       "   \"results\": [\n",
       "     {\n",
       "       \"success\": true,\n",
       "       \"expectation_config\": {\n",
       "         \"expectation_type\": \"expect_column_min_to_be_between\",\n",
       "         \"kwargs\": {\n",
       "           \"column\": \"pm25_rolling_mean\",\n",
       "           \"min_value\": -0.1,\n",
       "           \"max_value\": 500.0,\n",
       "           \"strict_min\": true\n",
       "         },\n",
       "         \"meta\": {\n",
       "           \"expectationId\": 675866\n",
       "         }\n",
       "       },\n",
       "       \"result\": {\n",
       "         \"observed_value\": 21.666666666666668,\n",
       "         \"element_count\": 2293,\n",
       "         \"missing_count\": null,\n",
       "         \"missing_percent\": null\n",
       "       },\n",
       "       \"meta\": {\n",
       "         \"ingestionResult\": \"INGESTED\",\n",
       "         \"validationTime\": \"2024-11-17T08:54:43.000420Z\"\n",
       "       },\n",
       "       \"exception_info\": {\n",
       "         \"raised_exception\": false,\n",
       "         \"exception_message\": null,\n",
       "         \"exception_traceback\": null\n",
       "       }\n",
       "     }\n",
       "   ],\n",
       "   \"evaluation_parameters\": {},\n",
       "   \"statistics\": {\n",
       "     \"evaluated_expectations\": 1,\n",
       "     \"successful_expectations\": 1,\n",
       "     \"unsuccessful_expectations\": 0,\n",
       "     \"success_percent\": 100.0\n",
       "   },\n",
       "   \"meta\": {\n",
       "     \"great_expectations_version\": \"0.18.12\",\n",
       "     \"expectation_suite_name\": \"aq_expectation_suite\",\n",
       "     \"run_id\": {\n",
       "       \"run_name\": null,\n",
       "       \"run_time\": \"2024-11-17T21:54:43.420421+01:00\"\n",
       "     },\n",
       "     \"batch_kwargs\": {\n",
       "       \"ge_batch_id\": \"2bd0442c-a526-11ef-a8ec-581cf82a021b\"\n",
       "     },\n",
       "     \"batch_markers\": {},\n",
       "     \"batch_parameters\": {},\n",
       "     \"validation_time\": \"20241117T205443.420421Z\",\n",
       "     \"expectation_suite_meta\": {\n",
       "       \"great_expectations_version\": \"0.18.12\"\n",
       "     }\n",
       "   }\n",
       " })"
      ]
     },
     "execution_count": 32,
     "metadata": {},
     "output_type": "execute_result"
    }
   ],
   "source": [
    "air_pm25rolling_fg.insert(new_df)"
   ]
  },
  {
   "cell_type": "code",
   "execution_count": null,
   "id": "e630b4c6-9a96-4ecb-a940-b2d0d4465d93",
   "metadata": {},
   "outputs": [],
   "source": []
  }
 ],
 "metadata": {
  "kernelspec": {
   "display_name": "Python 3 (ipykernel)",
   "language": "python",
   "name": "python3"
  },
  "language_info": {
   "codemirror_mode": {
    "name": "ipython",
    "version": 3
   },
   "file_extension": ".py",
   "mimetype": "text/x-python",
   "name": "python",
   "nbconvert_exporter": "python",
   "pygments_lexer": "ipython3",
   "version": "3.9.20"
  }
 },
 "nbformat": 4,
 "nbformat_minor": 5
}
